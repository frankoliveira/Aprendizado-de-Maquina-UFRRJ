{
 "cells": [
  {
   "cell_type": "markdown",
   "id": "7e391e95",
   "metadata": {},
   "source": [
    "## Regressão Linear com múltiplas variáveis"
   ]
  },
  {
   "cell_type": "markdown",
   "id": "b748cb2d",
   "metadata": {},
   "source": [
    "Este trabalho consiste na implementação da regressão linear por meio do Gradiente Descendente e da solução analítica (matricial), desenvolvido em Python.\n",
    "O dataset foi obtido através do repositório de dados da Universidade da Califórnia Irvine para problemas de Machine Learning através do link (https://archive.ics.uci.edu/ml/index.php). Os dados escolhidos referem-se a vinhos brancos avaliados por 11 características (features), contando com 4.898 exemplos, cada um com sua respectiva qualidade avaliada (target).\n",
    "Foi utilizado 70% (3.428 primeiros exemplos) dos dados para realizar o treinamento do modelo, e os outros 30% (1.470 exemplos restantes) para validação (testes).\n",
    "A seguir, veremos a implementação e os resultados obtidos."
   ]
  },
  {
   "cell_type": "markdown",
   "id": "bc648502",
   "metadata": {},
   "source": [
    "### Implementação do LMSTrainer() para fit e predição:"
   ]
  },
  {
   "cell_type": "code",
   "execution_count": 200,
   "id": "aee818f6",
   "metadata": {},
   "outputs": [],
   "source": [
    "import numpy as np\n",
    "import matplotlib.pyplot as plt\n",
    "from numpy.lib.function_base import gradient\n",
    "import pandas as pd\n",
    "from random import uniform\n",
    "\n",
    "class LMSTrainer():\n",
    "    def __init__(self, analitc=False):\n",
    "        self.analitic = analitc\n",
    "        self.trained = False\n",
    "        self.wModel = []\n",
    "\n",
    "    def predict(self, X_test):\n",
    "        y_preticted = costs = np.zeros(len(X_test))\n",
    "        index = 0\n",
    "        if not self.trained:\n",
    "            raise RuntimeError(\"You must train classifer before predicting data!\")\n",
    "        else:\n",
    "            return X_test@self.wModel.T\n",
    "\n",
    "    def cost(self, w, x, y):\n",
    "        erro = (x@w.T - y)\n",
    "        costs = np.sum(np.power(erro,2))\n",
    "        return costs/len(x)\n",
    "\n",
    "    def fitGradiente(self, x, y, numFeatures, alpha=0.1, epoch=50):\n",
    "        costs = np.zeros(epoch)\n",
    "        w = np.random.rand(1,numFeatures+1)\n",
    "        for i in range(epoch):\n",
    "            w = w - (alpha/len(x)) * np.sum((x@w.T - y)*x, axis=0)\n",
    "            costs[i] = self.cost(w, x, y)\n",
    "        self.trained = True\n",
    "        self.wModel = w\n",
    "        return costs\n",
    "    \n",
    "    def fitAnalitic(self, x, y):\n",
    "        xTx = np.matmul(x.T, x)\n",
    "        try:\n",
    "            xTx_Inv = np.linalg.inv(xTx)\n",
    "        except np.linalg.LinAlgError:\n",
    "            print(\"Can't perform analytic solution\")\n",
    "        else:\n",
    "            xTx_Inv_xT = np.matmul(xTx_Inv, x.T)\n",
    "            self.wModel = (xTx_Inv_xT@y).T\n",
    "            self.trained = True\n",
    "\n",
    "#função que insere uma coluna de números 1 na matriz de features\n",
    "def insert_ones(X):\n",
    "    ones = np.ones([X.shape[0],1])\n",
    "    return np.concatenate((ones,X), axis=1)"
   ]
  },
  {
   "cell_type": "markdown",
   "id": "e885d119",
   "metadata": {},
   "source": [
    "### Carregando o dataset:"
   ]
  },
  {
   "cell_type": "code",
   "execution_count": 201,
   "id": "b762d24f",
   "metadata": {},
   "outputs": [],
   "source": [
    "#Carregando o dataset\n",
    "data = pd.read_csv(\"wineQualityWhite.csv\")\n",
    "\n",
    "#normalizando os dados\n",
    "(data - data.mean())/data.std()\n",
    "dataset = (data-data.min())/(data.max()-data.min())\n",
    "\n",
    "#Definindo dados para treinamento\n",
    "xTraining = np.array(dataset.iloc[0:3428, 0:11])\n",
    "xTraining = insert_ones(xTraining)\n",
    "yTraining = dataset.iloc[0:3428, 11:12].values"
   ]
  },
  {
   "cell_type": "markdown",
   "id": "4b79555f",
   "metadata": {},
   "source": [
    "### Definindo a quantidade de épocas (iterações) e o alfa (taxa de aprendizado):"
   ]
  },
  {
   "cell_type": "code",
   "execution_count": 202,
   "id": "e39cbb40",
   "metadata": {},
   "outputs": [],
   "source": [
    "alpha = 0.05\n",
    "epoch = 1000"
   ]
  },
  {
   "cell_type": "markdown",
   "id": "13ae9b68",
   "metadata": {},
   "source": [
    "### Criando uma classe de LMSTrainer e realizando o fit pelo Gradiente Descendente:"
   ]
  },
  {
   "cell_type": "code",
   "execution_count": 224,
   "id": "a1a8c307",
   "metadata": {},
   "outputs": [],
   "source": [
    "lms = LMSTrainer()\n",
    "cost = lms.fitGradiente(xTraining,yTraining,11, alpha,epoch)"
   ]
  },
  {
   "cell_type": "markdown",
   "id": "f6a3bb5c",
   "metadata": {},
   "source": [
    "### Erro durante as iterações"
   ]
  },
  {
   "cell_type": "code",
   "execution_count": 225,
   "id": "543d468b",
   "metadata": {},
   "outputs": [
    {
     "data": {
      "image/png": "[encoded data removed]",
      "text/plain": [
       "<Figure size 432x288 with 1 Axes>"
      ]
     },
     "metadata": {
      "needs_background": "light"
     },
     "output_type": "display_data"
    }
   ],
   "source": [
    "fig, ax = plt.subplots()  \n",
    "ax.plot(np.arange(epoch), cost, 'r')  \n",
    "ax.set_xlabel('Iterações')  \n",
    "ax.set_ylabel('Custo')  \n",
    "ax.set_title('Erro vs. Iterações')\n",
    "plt.show()"
   ]
  },
  {
   "cell_type": "markdown",
   "id": "3c5477f7",
   "metadata": {},
   "source": [
    "### O modelo encontrado (w):"
   ]
  },
  {
   "cell_type": "code",
   "execution_count": 226,
   "id": "acf7a835",
   "metadata": {},
   "outputs": [
    {
     "name": "stdout",
     "output_type": "stream",
     "text": [
      "[[ 0.15142573 -0.06597012 -0.03240737  0.07275966 -0.06960814  0.52409065\n",
      "   0.44808364  0.00728584  0.4746558   0.01535429  0.15661742  0.44702042]]\n"
     ]
    }
   ],
   "source": [
    "print(lms.wModel)"
   ]
  },
  {
   "cell_type": "markdown",
   "id": "aa2cf05a",
   "metadata": {},
   "source": [
    "### Definindo os dados para teste:"
   ]
  },
  {
   "cell_type": "code",
   "execution_count": 227,
   "id": "e60cc25f",
   "metadata": {},
   "outputs": [],
   "source": [
    "xTest = np.array(dataset.iloc[3428:, 0:11])\n",
    "xTest = insert_ones(xTest)\n",
    "yTest = dataset.iloc[3428:, 11:12].values"
   ]
  },
  {
   "cell_type": "markdown",
   "id": "c67c63a2",
   "metadata": {},
   "source": [
    "### Erro médio para o treino:"
   ]
  },
  {
   "cell_type": "code",
   "execution_count": 228,
   "id": "2463dea3",
   "metadata": {},
   "outputs": [
    {
     "name": "stdout",
     "output_type": "stream",
     "text": [
      "Erro treino:  0.020390498540523914\n"
     ]
    }
   ],
   "source": [
    "errorTraining = lms.cost(lms.wModel, xTraining, yTraining)\n",
    "print(\"Erro treino: \", errorTraining)"
   ]
  },
  {
   "cell_type": "markdown",
   "id": "416af4ba",
   "metadata": {},
   "source": [
    "### Erro médio para os dados de teste:"
   ]
  },
  {
   "cell_type": "code",
   "execution_count": 229,
   "id": "33d1d378",
   "metadata": {},
   "outputs": [
    {
     "name": "stdout",
     "output_type": "stream",
     "text": [
      "Erro teste:  0.01911573821522372\n"
     ]
    }
   ],
   "source": [
    "errorTest = lms.cost(lms.wModel, xTest, yTest)\n",
    "print(\"Erro teste: \", errorTest)"
   ]
  },
  {
   "cell_type": "markdown",
   "id": "4e25571b",
   "metadata": {},
   "source": [
    "### Encontrando um modelo de forma analítica:"
   ]
  },
  {
   "cell_type": "code",
   "execution_count": 230,
   "id": "f7222383",
   "metadata": {},
   "outputs": [],
   "source": [
    "lms_analytic = LMSTrainer()\n",
    "lms_analytic.fitAnalitic(xTraining,yTraining)"
   ]
  },
  {
   "cell_type": "markdown",
   "id": "286e36c3",
   "metadata": {},
   "source": [
    "### O modelo encontrado de forma analítica:"
   ]
  },
  {
   "cell_type": "code",
   "execution_count": 231,
   "id": "addcffa3",
   "metadata": {},
   "outputs": [
    {
     "name": "stdout",
     "output_type": "stream",
     "text": [
      "[[ 0.34127621 -0.12009128 -0.29719372 -0.01466031  0.25814666 -0.0440674\n",
      "   0.27740696 -0.06145024 -0.02272852  0.04281557  0.08485237  0.40665662]]\n"
     ]
    }
   ],
   "source": [
    "print(lms_analytic.wModel)"
   ]
  },
  {
   "cell_type": "markdown",
   "id": "b84cb2c2",
   "metadata": {},
   "source": [
    "### Erro médio do modelo analítico para os dados de treinamento:"
   ]
  },
  {
   "cell_type": "code",
   "execution_count": 232,
   "id": "afe9f7af",
   "metadata": {},
   "outputs": [
    {
     "name": "stdout",
     "output_type": "stream",
     "text": [
      "Erro treino:  0.016685989115741283\n"
     ]
    }
   ],
   "source": [
    "errorTrainingAnalytic = lms_analytic.cost(lms_analytic.wModel, xTraining, yTraining)\n",
    "print(\"Erro treino: \", errorTrainingAnalytic)"
   ]
  },
  {
   "cell_type": "markdown",
   "id": "92bf316c",
   "metadata": {},
   "source": [
    "### Erro médio do modelo analítico para os dados de teste:"
   ]
  },
  {
   "cell_type": "code",
   "execution_count": 233,
   "id": "2ae876f9",
   "metadata": {},
   "outputs": [
    {
     "name": "stdout",
     "output_type": "stream",
     "text": [
      "Erro teste:  0.01436808910708202\n"
     ]
    }
   ],
   "source": [
    "errorTestAnalytic = lms_analytic.cost(lms_analytic.wModel, xTest, yTest)\n",
    "print(\"Erro teste: \", errorTestAnalytic)"
   ]
  }
 ],
 "metadata": {
  "kernelspec": {
   "display_name": "Python 3",
   "language": "python",
   "name": "python3"
  },
  "language_info": {
   "codemirror_mode": {
    "name": "ipython",
    "version": 3
   },
   "file_extension": ".py",
   "mimetype": "text/x-python",
   "name": "python",
   "nbconvert_exporter": "python",
   "pygments_lexer": "ipython3",
   "version": "3.8.8"
  }
 },
 "nbformat": 4,
 "nbformat_minor": 5
}
